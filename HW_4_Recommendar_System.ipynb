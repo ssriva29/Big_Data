{
 "cells": [
  {
   "cell_type": "raw",
   "metadata": {},
   "source": [
    "1. Import the MovieLens dataset.\n",
    "4. Try to improve the performance of the original model using cross validation and solve the\n",
    "cold-start problem.\n",
    "5. Report the improved performance after the step 4 and output top 10 movies for all the\n",
    "users with the following format:\n",
    "userID<\\tab>itemID1,itemID2,itemID3 ...,itemID10"
   ]
  },
  {
   "cell_type": "code",
   "execution_count": 2,
   "metadata": {},
   "outputs": [],
   "source": [
    "import pandas as pd\n",
    "\n",
    "file = '/Users/pawanjeetkaur/Downloads/SPRING 2020/Big Data - IDS 561/HW_4/u.data'\n",
    "\n",
    "from pyspark import SparkContext\n",
    "from pyspark.sql import SQLContext\n",
    "from pyspark.sql import SparkSession\n",
    "\n",
    "import collections\n",
    "\n",
    "sc = SparkContext(\"local\", \"First App\")\n",
    "sql = SQLContext(sc)\n",
    "spark = SparkSession.builder.master(\"local\").appName(\"movie_lens\").getOrCreate()"
   ]
  },
  {
   "cell_type": "code",
   "execution_count": 3,
   "metadata": {},
   "outputs": [
    {
     "data": {
      "text/plain": [
       "['196\\t242\\t3\\t881250949',\n",
       " '186\\t302\\t3\\t891717742',\n",
       " '22\\t377\\t1\\t878887116',\n",
       " '244\\t51\\t2\\t880606923']"
      ]
     },
     "execution_count": 3,
     "metadata": {},
     "output_type": "execute_result"
    }
   ],
   "source": [
    "lines = sc.textFile(file)\n",
    "type(lines)\n",
    "lines.take(4)"
   ]
  },
  {
   "cell_type": "code",
   "execution_count": 4,
   "metadata": {},
   "outputs": [],
   "source": [
    "clean_data = lines.map(lambda x:x.split('\\t'))"
   ]
  },
  {
   "cell_type": "code",
   "execution_count": 5,
   "metadata": {},
   "outputs": [
    {
     "data": {
      "text/plain": [
       "[['196', '242', '3', '881250949'],\n",
       " ['186', '302', '3', '891717742'],\n",
       " ['22', '377', '1', '878887116'],\n",
       " ['244', '51', '2', '880606923']]"
      ]
     },
     "execution_count": 5,
     "metadata": {},
     "output_type": "execute_result"
    }
   ],
   "source": [
    "clean_data.take(4)"
   ]
  },
  {
   "cell_type": "code",
   "execution_count": 6,
   "metadata": {},
   "outputs": [
    {
     "data": {
      "text/plain": [
       "3.529859999999947"
      ]
     },
     "execution_count": 6,
     "metadata": {},
     "output_type": "execute_result"
    }
   ],
   "source": [
    "# extract ratings \n",
    "rate = clean_data.map(lambda y: int(y[2]))\n",
    "rate.mean()"
   ]
  },
  {
   "cell_type": "code",
   "execution_count": 7,
   "metadata": {},
   "outputs": [
    {
     "data": {
      "text/plain": [
       "943"
      ]
     },
     "execution_count": 7,
     "metadata": {},
     "output_type": "execute_result"
    }
   ],
   "source": [
    "#extract users\n",
    "users = clean_data.map(lambda y: int(y[0]))\n",
    "users.distinct().count()"
   ]
  },
  {
   "cell_type": "code",
   "execution_count": 8,
   "metadata": {},
   "outputs": [
    {
     "data": {
      "text/plain": [
       "1682"
      ]
     },
     "execution_count": 8,
     "metadata": {},
     "output_type": "execute_result"
    }
   ],
   "source": [
    "# count of distinct movies\n",
    "clean_data.map(lambda y: int(y[1])).distinct().count() "
   ]
  },
  {
   "cell_type": "raw",
   "metadata": {},
   "source": [
    "Step 2. Build a recommendation model using Alternating Least Squares"
   ]
  },
  {
   "cell_type": "code",
   "execution_count": 9,
   "metadata": {},
   "outputs": [],
   "source": [
    "# import the models to be used\n",
    "from pyspark.mllib.recommendation import ALS,MatrixFactorizationModel, Rating"
   ]
  },
  {
   "cell_type": "code",
   "execution_count": 10,
   "metadata": {},
   "outputs": [],
   "source": [
    "mls = lines.map(lambda l: l.split('\\t'))\n",
    "\n",
    "ratings = mls.map(lambda x: Rating(int(x[0]),int(x[1]), float(x[2])))"
   ]
  },
  {
   "cell_type": "code",
   "execution_count": 11,
   "metadata": {},
   "outputs": [
    {
     "name": "stdout",
     "output_type": "stream",
     "text": [
      "69958\n",
      "30042\n"
     ]
    }
   ],
   "source": [
    "import numpy\n",
    "train, test = ratings.randomSplit([0.7,0.3],7856)\n",
    "\n",
    "print(train.count())\n",
    "print(test.count())"
   ]
  },
  {
   "cell_type": "code",
   "execution_count": 12,
   "metadata": {},
   "outputs": [
    {
     "data": {
      "text/plain": [
       "PythonRDD[18] at RDD at PythonRDD.scala:53"
      ]
     },
     "execution_count": 12,
     "metadata": {},
     "output_type": "execute_result"
    }
   ],
   "source": [
    "# cache train/test data\n",
    "train.cache()\n",
    "test.cache()"
   ]
  },
  {
   "cell_type": "code",
   "execution_count": 13,
   "metadata": {},
   "outputs": [],
   "source": [
    "# set up paramters for ALS \n",
    "rank = 5\n",
    "numIterations = 10 \n",
    "\n",
    "#Create the model on the training data\n",
    "model = ALS.train(train, rank, numIterations)"
   ]
  },
  {
   "cell_type": "code",
   "execution_count": 14,
   "metadata": {},
   "outputs": [
    {
     "data": {
      "text/plain": [
       "(1,\n",
       " array('d', [1.0812033414840698, -0.6098031997680664, 1.3819518089294434, -0.8973950147628784, -0.4324202537536621]))"
      ]
     },
     "execution_count": 14,
     "metadata": {},
     "output_type": "execute_result"
    }
   ],
   "source": [
    "#Examine the latent features for one product\n",
    "model.productFeatures().first()"
   ]
  },
  {
   "cell_type": "code",
   "execution_count": 15,
   "metadata": {},
   "outputs": [
    {
     "data": {
      "text/plain": [
       "(1,\n",
       " array('d', [0.9891213178634644, -1.1177046298980713, 1.2366325855255127, -0.07294294238090515, -0.4959731996059418]))"
      ]
     },
     "execution_count": 15,
     "metadata": {},
     "output_type": "execute_result"
    }
   ],
   "source": [
    "#Examine the latent features for one user\n",
    "model.userFeatures().first()"
   ]
  },
  {
   "cell_type": "code",
   "execution_count": 16,
   "metadata": {},
   "outputs": [
    {
     "data": {
      "text/plain": [
       "[Rating(user=4, product=242, rating=5.631577865237972),\n",
       " Rating(user=240, product=242, rating=5.581940090691871),\n",
       " Rating(user=928, product=242, rating=5.481553096563971),\n",
       " Rating(user=310, product=242, rating=5.467094812980218),\n",
       " Rating(user=803, product=242, rating=5.3541405630863075),\n",
       " Rating(user=414, product=242, rating=5.221634918875797),\n",
       " Rating(user=534, product=242, rating=5.181642097359205),\n",
       " Rating(user=180, product=242, rating=5.176824877557046),\n",
       " Rating(user=45, product=242, rating=5.162188852505334),\n",
       " Rating(user=219, product=242, rating=5.138261770307382),\n",
       " Rating(user=386, product=242, rating=5.103824995357051),\n",
       " Rating(user=118, product=242, rating=5.0584736273542354),\n",
       " Rating(user=353, product=242, rating=5.057665883542374),\n",
       " Rating(user=241, product=242, rating=5.050767024610874),\n",
       " Rating(user=357, product=242, rating=4.967344322327577),\n",
       " Rating(user=261, product=242, rating=4.964578758465336),\n",
       " Rating(user=167, product=242, rating=4.958858678970751),\n",
       " Rating(user=808, product=242, rating=4.945190606719372),\n",
       " Rating(user=923, product=242, rating=4.943421126132675),\n",
       " Rating(user=794, product=242, rating=4.932525740734497),\n",
       " Rating(user=531, product=242, rating=4.932090220061983),\n",
       " Rating(user=274, product=242, rating=4.927066112629255),\n",
       " Rating(user=173, product=242, rating=4.9199458816599595),\n",
       " Rating(user=765, product=242, rating=4.911084467787422),\n",
       " Rating(user=34, product=242, rating=4.8776135681846),\n",
       " Rating(user=688, product=242, rating=4.871123261057272),\n",
       " Rating(user=54, product=242, rating=4.865818677217746),\n",
       " Rating(user=810, product=242, rating=4.8626534706826945),\n",
       " Rating(user=105, product=242, rating=4.8438987941277),\n",
       " Rating(user=770, product=242, rating=4.831253324884841),\n",
       " Rating(user=767, product=242, rating=4.8058475900187645),\n",
       " Rating(user=686, product=242, rating=4.795227585721033),\n",
       " Rating(user=583, product=242, rating=4.79425988580765),\n",
       " Rating(user=30, product=242, rating=4.778661800882837),\n",
       " Rating(user=863, product=242, rating=4.777503192133324),\n",
       " Rating(user=701, product=242, rating=4.777406070842096),\n",
       " Rating(user=744, product=242, rating=4.776602045312259),\n",
       " Rating(user=423, product=242, rating=4.773425299472521),\n",
       " Rating(user=849, product=242, rating=4.772807692355181),\n",
       " Rating(user=696, product=242, rating=4.769669120437534),\n",
       " Rating(user=270, product=242, rating=4.768896648701428),\n",
       " Rating(user=592, product=242, rating=4.7678124114310965),\n",
       " Rating(user=384, product=242, rating=4.750877043436944),\n",
       " Rating(user=613, product=242, rating=4.75006736383423),\n",
       " Rating(user=842, product=242, rating=4.746740033329363),\n",
       " Rating(user=52, product=242, rating=4.74456206933003),\n",
       " Rating(user=242, product=242, rating=4.74372877842729),\n",
       " Rating(user=350, product=242, rating=4.741292930163665),\n",
       " Rating(user=477, product=242, rating=4.739548705015126),\n",
       " Rating(user=296, product=242, rating=4.7362393195428965),\n",
       " Rating(user=440, product=242, rating=4.720729802123532),\n",
       " Rating(user=343, product=242, rating=4.702717140613814),\n",
       " Rating(user=291, product=242, rating=4.699433803693713),\n",
       " Rating(user=898, product=242, rating=4.699147348556885),\n",
       " Rating(user=94, product=242, rating=4.693513379432735),\n",
       " Rating(user=295, product=242, rating=4.692649913736787),\n",
       " Rating(user=711, product=242, rating=4.684832637427434),\n",
       " Rating(user=511, product=242, rating=4.675477094778952),\n",
       " Rating(user=631, product=242, rating=4.669762781997097),\n",
       " Rating(user=306, product=242, rating=4.664080032545193),\n",
       " Rating(user=394, product=242, rating=4.661472692412364),\n",
       " Rating(user=273, product=242, rating=4.658206482228914),\n",
       " Rating(user=147, product=242, rating=4.644369470049579),\n",
       " Rating(user=157, product=242, rating=4.640694293468779),\n",
       " Rating(user=46, product=242, rating=4.63939403638723),\n",
       " Rating(user=312, product=242, rating=4.633394278709623),\n",
       " Rating(user=16, product=242, rating=4.632761066153709),\n",
       " Rating(user=939, product=242, rating=4.627606928879384),\n",
       " Rating(user=909, product=242, rating=4.622269236730649),\n",
       " Rating(user=210, product=242, rating=4.61198378026808),\n",
       " Rating(user=339, product=242, rating=4.608137946513671),\n",
       " Rating(user=717, product=242, rating=4.6075958036966185),\n",
       " Rating(user=565, product=242, rating=4.6029457718616555),\n",
       " Rating(user=747, product=242, rating=4.6022393792074885),\n",
       " Rating(user=508, product=242, rating=4.596682263661736),\n",
       " Rating(user=89, product=242, rating=4.594765919921571),\n",
       " Rating(user=740, product=242, rating=4.593902000674083),\n",
       " Rating(user=875, product=242, rating=4.592860885243475),\n",
       " Rating(user=53, product=242, rating=4.591575424707532),\n",
       " Rating(user=136, product=242, rating=4.58834282345798),\n",
       " Rating(user=890, product=242, rating=4.585296059402517),\n",
       " Rating(user=252, product=242, rating=4.582967928723864),\n",
       " Rating(user=69, product=242, rating=4.581521442015586),\n",
       " Rating(user=433, product=242, rating=4.576271013521069),\n",
       " Rating(user=464, product=242, rating=4.571211442927435),\n",
       " Rating(user=569, product=242, rating=4.568811282930607),\n",
       " Rating(user=862, product=242, rating=4.567229981649001),\n",
       " Rating(user=526, product=242, rating=4.56269111419237),\n",
       " Rating(user=119, product=242, rating=4.561330960765282),\n",
       " Rating(user=941, product=242, rating=4.551073005372755),\n",
       " Rating(user=428, product=242, rating=4.549731416322018),\n",
       " Rating(user=821, product=242, rating=4.549072658198874),\n",
       " Rating(user=519, product=242, rating=4.547582795047305),\n",
       " Rating(user=7, product=242, rating=4.544866866056921),\n",
       " Rating(user=840, product=242, rating=4.54349164756691),\n",
       " Rating(user=415, product=242, rating=4.5420176559105325),\n",
       " Rating(user=315, product=242, rating=4.541915301042295),\n",
       " Rating(user=108, product=242, rating=4.541113071067237),\n",
       " Rating(user=137, product=242, rating=4.539887444151667),\n",
       " Rating(user=856, product=242, rating=4.53974262844317)]"
      ]
     },
     "execution_count": 16,
     "metadata": {},
     "output_type": "execute_result"
    }
   ],
   "source": [
    "# For Product X, Find N Users to Sell To\n",
    "model.recommendUsers(242,100)"
   ]
  },
  {
   "cell_type": "code",
   "execution_count": 17,
   "metadata": {},
   "outputs": [
    {
     "data": {
      "text/plain": [
       "[Rating(user=196, product=1438, rating=9.545188255293116),\n",
       " Rating(user=196, product=1160, rating=8.947953921077355),\n",
       " Rating(user=196, product=1315, rating=8.443920506147968),\n",
       " Rating(user=196, product=1298, rating=8.12891011225617),\n",
       " Rating(user=196, product=1176, rating=8.08221832370801),\n",
       " Rating(user=196, product=1426, rating=7.869675065244834),\n",
       " Rating(user=196, product=1085, rating=7.788261125906321),\n",
       " Rating(user=196, product=1184, rating=7.733133794006033),\n",
       " Rating(user=196, product=1335, rating=7.615182806028126),\n",
       " Rating(user=196, product=1427, rating=7.421774503650177)]"
      ]
     },
     "execution_count": 17,
     "metadata": {},
     "output_type": "execute_result"
    }
   ],
   "source": [
    "# For User Y Find N Products to Promote\n",
    "model.recommendProducts(196,10)"
   ]
  },
  {
   "cell_type": "code",
   "execution_count": 18,
   "metadata": {},
   "outputs": [
    {
     "data": {
      "text/plain": [
       "4.248268946199023"
      ]
     },
     "execution_count": 18,
     "metadata": {},
     "output_type": "execute_result"
    }
   ],
   "source": [
    "#Predict Single Product for Single User\n",
    "model.predict(196, 242)"
   ]
  },
  {
   "cell_type": "code",
   "execution_count": 19,
   "metadata": {},
   "outputs": [],
   "source": [
    "# Predict Multi Users and Multi Products\n",
    "# Pre-Processing\n",
    "pred_input = train.map(lambda x:(x[0],x[1]))   "
   ]
  },
  {
   "cell_type": "code",
   "execution_count": 20,
   "metadata": {},
   "outputs": [],
   "source": [
    "# Lots of Predictions\n",
    "#Returns Ratings(user, item, prediction)\n",
    "pred = model.predictAll(pred_input) "
   ]
  },
  {
   "cell_type": "code",
   "execution_count": 21,
   "metadata": {},
   "outputs": [],
   "source": [
    "#Get Performance Estimate\n",
    "#Organize the data to make (user, product) the key)\n",
    "\n",
    "true_reorg = train.map(lambda x:((x[0],x[1]), x[2]))\n",
    "pred_reorg = pred.map(lambda x:((x[0],x[1]), x[2]))"
   ]
  },
  {
   "cell_type": "code",
   "execution_count": 22,
   "metadata": {},
   "outputs": [],
   "source": [
    "true_pred = true_reorg.join(pred_reorg)"
   ]
  },
  {
   "cell_type": "raw",
   "metadata": {},
   "source": [
    "3: report original performance "
   ]
  },
  {
   "cell_type": "code",
   "execution_count": 23,
   "metadata": {},
   "outputs": [],
   "source": [
    "from math import sqrt\n",
    "\n",
    "MSE = true_pred.map(lambda r: (r[1][0] - r[1][1])**2).mean()\n",
    "RMSE = sqrt(MSE)"
   ]
  },
  {
   "cell_type": "code",
   "execution_count": 24,
   "metadata": {},
   "outputs": [],
   "source": [
    "test_input = test.map(lambda x:(x[0],x[1])) \n",
    "pred_test = model.predictAll(test_input)\n",
    "\n",
    "test_reorg = test.map(lambda x:((x[0],x[1]), x[2]))\n",
    "pred_reorg = pred_test.map(lambda x:((x[0],x[1]), x[2]))\n",
    "\n",
    "test_pred = test_reorg.join(pred_reorg)\n",
    "\n",
    "test_MSE = test_pred.map(lambda r: (r[1][0] - r[1][1])**2).mean()\n",
    "test_RMSE = sqrt(test_MSE)"
   ]
  },
  {
   "cell_type": "code",
   "execution_count": 25,
   "metadata": {},
   "outputs": [
    {
     "name": "stdout",
     "output_type": "stream",
     "text": [
      "1.023861138871279\n",
      "1.011860236826845\n"
     ]
    }
   ],
   "source": [
    "print(test_MSE)\n",
    "print(test_RMSE)"
   ]
  },
  {
   "cell_type": "raw",
   "metadata": {},
   "source": [
    "Step 4: Try to improve the performance of the original model using cross validation and solve the\n",
    "cold-start problem."
   ]
  },
  {
   "cell_type": "code",
   "execution_count": 26,
   "metadata": {},
   "outputs": [
    {
     "name": "stdout",
     "output_type": "stream",
     "text": [
      "For rank 4 the RMSE is 0.9915248794772764\n",
      "For rank 8 the RMSE is 1.0759270988028544\n",
      "For rank 12 the RMSE is 1.151978488010925\n",
      "The best model was trained with rank 4\n"
     ]
    }
   ],
   "source": [
    "seed = 5\n",
    "iterations = 10\n",
    "#regularization_parameter = 0.1\n",
    "ranks = [4, 8, 12]\n",
    "errors = [0, 0, 0]\n",
    "err = 0\n",
    "tolerance = 0.02\n",
    "\n",
    "min_error = float('inf')\n",
    "best_rank = -1\n",
    "best_iteration = -1\n",
    "for rank in ranks:\n",
    "    model = ALS.train(train, rank, seed = seed, iterations = numIterations)\n",
    "    \n",
    "    test_input = test.map(lambda x:(x[0],x[1])) \n",
    "    pred_test = model.predictAll(test_input)\n",
    "\n",
    "    test_reorg = test.map(lambda x:((x[0],x[1]), x[2]))\n",
    "    pred_reorg = pred_test.map(lambda x:((x[0],x[1]), x[2]))\n",
    "\n",
    "    rates_and_preds = test_reorg.join(pred_reorg)\n",
    "\n",
    "    #rates_and_preds = validation_RDD.map(lambda r: ((int(r[0]), int(r[1])), float(r[2]))).join(predictions)\n",
    "    error = sqrt(rates_and_preds.map(lambda r: (r[1][0] - r[1][1])**2).mean())\n",
    "    errors[err] = error\n",
    "    err += 1\n",
    "    \n",
    "    print(\"For rank\", rank, \"the RMSE is\", error)\n",
    "    if error < min_error:\n",
    "        min_error = error\n",
    "        best_rank = rank\n",
    "\n",
    "print(\"The best model was trained with rank\", best_rank)"
   ]
  },
  {
   "cell_type": "raw",
   "metadata": {},
   "source": [
    "Create model with tuned paramter and find test RMSE "
   ]
  },
  {
   "cell_type": "code",
   "execution_count": 43,
   "metadata": {},
   "outputs": [],
   "source": [
    "#best_model = ALS.train(train, best_rank, seed = seed, iterations = numIterations, coldStartStrategy = \"drop\")\n",
    "\n",
    "from pyspark.ml.recommendation import ALS, ALSModel\n",
    "from pyspark.mllib.evaluation import RegressionMetrics, RankingMetrics\n",
    "from pyspark.ml.evaluation import RegressionEvaluator\n",
    "\n",
    "train_df = train.toDF()\n",
    "test_df = test.toDF()\n",
    "\n",
    "als = ALS(maxIter=numIterations,rank=best_rank,userCol=\"user\", itemCol=\"product\", \n",
    "                 ratingCol=\"rating\",coldStartStrategy=\"drop\")\n",
    "best_model = als.fit(train_df)"
   ]
  },
  {
   "cell_type": "raw",
   "metadata": {},
   "source": [
    "test_input = test.map(lambda x:(x[0],x[1])) \n",
    "pred_test = best_model.predictAll(test_input)\n",
    "\n",
    "test_reorg = test.map(lambda x:((x[0],x[1]), x[2]))\n",
    "pred_reorg = pred_test.map(lambda x:((x[0],x[1]), x[2]))\n",
    "\n",
    "test_pred = test_reorg.join(pred_reorg)\n",
    "\n",
    "test_MSE = test_pred.map(lambda r: (r[1][0] - r[1][1])**2).mean()\n",
    "test_RMSE = sqrt(test_MSE)\n",
    "\n",
    "\n"
   ]
  },
  {
   "cell_type": "code",
   "execution_count": 44,
   "metadata": {},
   "outputs": [
    {
     "name": "stdout",
     "output_type": "stream",
     "text": [
      "0.9266849479886077\n"
     ]
    }
   ],
   "source": [
    "predictions_test_best = best_model.transform(test_df)\n",
    "evaluator_test_best = RegressionEvaluator(metricName=\"rmse\", labelCol=\"rating\",predictionCol=\"prediction\")\n",
    "\n",
    "rmse = evaluator_test_best.evaluate(predictions_test_best)\n",
    "\n",
    "print(rmse)"
   ]
  },
  {
   "cell_type": "code",
   "execution_count": 46,
   "metadata": {},
   "outputs": [
    {
     "data": {
      "text/plain": [
       "0.9266849479886077"
      ]
     },
     "execution_count": 46,
     "metadata": {},
     "output_type": "execute_result"
    }
   ],
   "source": [
    "rmse"
   ]
  },
  {
   "cell_type": "code",
   "execution_count": 47,
   "metadata": {},
   "outputs": [
    {
     "name": "stdout",
     "output_type": "stream",
     "text": [
      "943\n",
      "1631\n"
     ]
    }
   ],
   "source": [
    "userRecs = best_model.recommendForAllUsers(10)\n",
    "print(userRecs.count())\n",
    "# Generate top 10 user recommendations for each movie\n",
    "movieRecs = best_model.recommendForAllItems(10)\n",
    "print(movieRecs.count())"
   ]
  },
  {
   "cell_type": "code",
   "execution_count": 48,
   "metadata": {},
   "outputs": [
    {
     "name": "stdout",
     "output_type": "stream",
     "text": [
      "(943, 2)\n",
      "(1631, 2)\n"
     ]
    }
   ],
   "source": [
    "userRecs_df = userRecs.toPandas()\n",
    "print(userRecs_df.shape)\n",
    "\n",
    "movieRecs_df = movieRecs.toPandas()\n",
    "print(movieRecs_df.shape)"
   ]
  },
  {
   "cell_type": "code",
   "execution_count": 49,
   "metadata": {},
   "outputs": [],
   "source": [
    "import string\n",
    "\n",
    "movieid=list()\n",
    "for i in range(0,943):\n",
    "  l1=list()\n",
    "  for j in range(0,10):\n",
    "    l1.append(userRecs_df['recommendations'][i][j][0])\n",
    "  \n",
    "  s = [str(i) for i in l1]\n",
    "  res = (\",\".join(s))\n",
    "  movieid.append(res)\n",
    "\n",
    "userRecs_df['final_recommend']=movieid"
   ]
  },
  {
   "cell_type": "code",
   "execution_count": 50,
   "metadata": {},
   "outputs": [],
   "source": [
    "userRecs_df\n",
    "userRecs_df.drop([\"recommendations\"], axis = 1, inplace = True) "
   ]
  },
  {
   "cell_type": "code",
   "execution_count": 51,
   "metadata": {},
   "outputs": [],
   "source": [
    "#Exporting the output\n",
    "\n",
    "#import os\n",
    "#os.chdir('/content/drive/My Drive/Big_data_project/')\n",
    "\n",
    "userRecs_df.to_csv('Assignment_3_op.csv',sep='\\t',index=False,header=False)"
   ]
  },
  {
   "cell_type": "code",
   "execution_count": 52,
   "metadata": {},
   "outputs": [
    {
     "data": {
      "text/html": [
       "<div>\n",
       "<style scoped>\n",
       "    .dataframe tbody tr th:only-of-type {\n",
       "        vertical-align: middle;\n",
       "    }\n",
       "\n",
       "    .dataframe tbody tr th {\n",
       "        vertical-align: top;\n",
       "    }\n",
       "\n",
       "    .dataframe thead th {\n",
       "        text-align: right;\n",
       "    }\n",
       "</style>\n",
       "<table border=\"1\" class=\"dataframe\">\n",
       "  <thead>\n",
       "    <tr style=\"text-align: right;\">\n",
       "      <th></th>\n",
       "      <th>user</th>\n",
       "      <th>final_recommend</th>\n",
       "    </tr>\n",
       "  </thead>\n",
       "  <tbody>\n",
       "    <tr>\n",
       "      <td>0</td>\n",
       "      <td>471</td>\n",
       "      <td>1192,394,1391,1038,1394,958,1167,1242,454,681</td>\n",
       "    </tr>\n",
       "    <tr>\n",
       "      <td>1</td>\n",
       "      <td>463</td>\n",
       "      <td>1167,1599,1398,1099,1084,1192,1062,1585,1553,958</td>\n",
       "    </tr>\n",
       "    <tr>\n",
       "      <td>2</td>\n",
       "      <td>833</td>\n",
       "      <td>1463,1643,1462,1367,1536,853,1405,1558,641,1499</td>\n",
       "    </tr>\n",
       "    <tr>\n",
       "      <td>3</td>\n",
       "      <td>496</td>\n",
       "      <td>913,75,1500,1405,1367,1143,793,1410,1368,899</td>\n",
       "    </tr>\n",
       "    <tr>\n",
       "      <td>4</td>\n",
       "      <td>148</td>\n",
       "      <td>1500,1463,1367,1643,793,1449,75,913,1143,1410</td>\n",
       "    </tr>\n",
       "    <tr>\n",
       "      <td>...</td>\n",
       "      <td>...</td>\n",
       "      <td>...</td>\n",
       "    </tr>\n",
       "    <tr>\n",
       "      <td>938</td>\n",
       "      <td>208</td>\n",
       "      <td>1472,1063,1463,814,867,1099,1166,1242,496,1167</td>\n",
       "    </tr>\n",
       "    <tr>\n",
       "      <td>939</td>\n",
       "      <td>401</td>\n",
       "      <td>1167,1242,1166,867,1099,814,1160,1063,1472,496</td>\n",
       "    </tr>\n",
       "    <tr>\n",
       "      <td>940</td>\n",
       "      <td>422</td>\n",
       "      <td>1463,1367,1449,1643,1500,1651,1636,1631,814,1122</td>\n",
       "    </tr>\n",
       "    <tr>\n",
       "      <td>941</td>\n",
       "      <td>517</td>\n",
       "      <td>1631,1651,1636,1367,1449,1293,1398,1500,1169,169</td>\n",
       "    </tr>\n",
       "    <tr>\n",
       "      <td>942</td>\n",
       "      <td>89</td>\n",
       "      <td>1631,1636,1651,1169,1293,814,1449,1398,318,1467</td>\n",
       "    </tr>\n",
       "  </tbody>\n",
       "</table>\n",
       "<p>943 rows × 2 columns</p>\n",
       "</div>"
      ],
      "text/plain": [
       "     user                                   final_recommend\n",
       "0     471     1192,394,1391,1038,1394,958,1167,1242,454,681\n",
       "1     463  1167,1599,1398,1099,1084,1192,1062,1585,1553,958\n",
       "2     833   1463,1643,1462,1367,1536,853,1405,1558,641,1499\n",
       "3     496      913,75,1500,1405,1367,1143,793,1410,1368,899\n",
       "4     148     1500,1463,1367,1643,793,1449,75,913,1143,1410\n",
       "..    ...                                               ...\n",
       "938   208    1472,1063,1463,814,867,1099,1166,1242,496,1167\n",
       "939   401    1167,1242,1166,867,1099,814,1160,1063,1472,496\n",
       "940   422  1463,1367,1449,1643,1500,1651,1636,1631,814,1122\n",
       "941   517  1631,1651,1636,1367,1449,1293,1398,1500,1169,169\n",
       "942    89   1631,1636,1651,1169,1293,814,1449,1398,318,1467\n",
       "\n",
       "[943 rows x 2 columns]"
      ]
     },
     "execution_count": 52,
     "metadata": {},
     "output_type": "execute_result"
    }
   ],
   "source": [
    "userRecs_df"
   ]
  },
  {
   "cell_type": "code",
   "execution_count": null,
   "metadata": {},
   "outputs": [],
   "source": []
  }
 ],
 "metadata": {
  "kernelspec": {
   "display_name": "Python 3",
   "language": "python",
   "name": "python3"
  },
  "language_info": {
   "codemirror_mode": {
    "name": "ipython",
    "version": 3
   },
   "file_extension": ".py",
   "mimetype": "text/x-python",
   "name": "python",
   "nbconvert_exporter": "python",
   "pygments_lexer": "ipython3",
   "version": "3.7.4"
  }
 },
 "nbformat": 4,
 "nbformat_minor": 2
}
